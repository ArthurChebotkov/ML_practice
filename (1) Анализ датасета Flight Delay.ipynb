{
 "cells": [
  {
   "cell_type": "markdown",
   "id": "9ce1cacd",
   "metadata": {},
   "source": [
    "### Анализ датасета"
   ]
  },
  {
   "cell_type": "markdown",
   "id": "a9d0d23f",
   "metadata": {},
   "source": [
    "Загрузим датасет и посмотрим на его размер"
   ]
  },
  {
   "cell_type": "code",
   "execution_count": 223,
   "id": "37f8f7a6",
   "metadata": {},
   "outputs": [
    {
     "name": "stdout",
     "output_type": "stream",
     "text": [
      "(100000, 9)\n"
     ]
    },
    {
     "data": {
      "text/html": [
       "<div>\n",
       "<style scoped>\n",
       "    .dataframe tbody tr th:only-of-type {\n",
       "        vertical-align: middle;\n",
       "    }\n",
       "\n",
       "    .dataframe tbody tr th {\n",
       "        vertical-align: top;\n",
       "    }\n",
       "\n",
       "    .dataframe thead th {\n",
       "        text-align: right;\n",
       "    }\n",
       "</style>\n",
       "<table border=\"1\" class=\"dataframe\">\n",
       "  <thead>\n",
       "    <tr style=\"text-align: right;\">\n",
       "      <th></th>\n",
       "      <th>Month</th>\n",
       "      <th>DayofMonth</th>\n",
       "      <th>DayOfWeek</th>\n",
       "      <th>DepTime</th>\n",
       "      <th>UniqueCarrier</th>\n",
       "      <th>Origin</th>\n",
       "      <th>Dest</th>\n",
       "      <th>Distance</th>\n",
       "      <th>dep_delayed_15min</th>\n",
       "    </tr>\n",
       "  </thead>\n",
       "  <tbody>\n",
       "    <tr>\n",
       "      <th>0</th>\n",
       "      <td>c-8</td>\n",
       "      <td>c-21</td>\n",
       "      <td>c-7</td>\n",
       "      <td>1934</td>\n",
       "      <td>AA</td>\n",
       "      <td>ATL</td>\n",
       "      <td>DFW</td>\n",
       "      <td>732</td>\n",
       "      <td>N</td>\n",
       "    </tr>\n",
       "    <tr>\n",
       "      <th>1</th>\n",
       "      <td>c-4</td>\n",
       "      <td>c-20</td>\n",
       "      <td>c-3</td>\n",
       "      <td>1548</td>\n",
       "      <td>US</td>\n",
       "      <td>PIT</td>\n",
       "      <td>MCO</td>\n",
       "      <td>834</td>\n",
       "      <td>N</td>\n",
       "    </tr>\n",
       "    <tr>\n",
       "      <th>2</th>\n",
       "      <td>c-9</td>\n",
       "      <td>c-2</td>\n",
       "      <td>c-5</td>\n",
       "      <td>1422</td>\n",
       "      <td>XE</td>\n",
       "      <td>RDU</td>\n",
       "      <td>CLE</td>\n",
       "      <td>416</td>\n",
       "      <td>N</td>\n",
       "    </tr>\n",
       "    <tr>\n",
       "      <th>3</th>\n",
       "      <td>c-11</td>\n",
       "      <td>c-25</td>\n",
       "      <td>c-6</td>\n",
       "      <td>1015</td>\n",
       "      <td>OO</td>\n",
       "      <td>DEN</td>\n",
       "      <td>MEM</td>\n",
       "      <td>872</td>\n",
       "      <td>N</td>\n",
       "    </tr>\n",
       "    <tr>\n",
       "      <th>4</th>\n",
       "      <td>c-10</td>\n",
       "      <td>c-7</td>\n",
       "      <td>c-6</td>\n",
       "      <td>1828</td>\n",
       "      <td>WN</td>\n",
       "      <td>MDW</td>\n",
       "      <td>OMA</td>\n",
       "      <td>423</td>\n",
       "      <td>Y</td>\n",
       "    </tr>\n",
       "    <tr>\n",
       "      <th>...</th>\n",
       "      <td>...</td>\n",
       "      <td>...</td>\n",
       "      <td>...</td>\n",
       "      <td>...</td>\n",
       "      <td>...</td>\n",
       "      <td>...</td>\n",
       "      <td>...</td>\n",
       "      <td>...</td>\n",
       "      <td>...</td>\n",
       "    </tr>\n",
       "    <tr>\n",
       "      <th>99995</th>\n",
       "      <td>c-5</td>\n",
       "      <td>c-4</td>\n",
       "      <td>c-3</td>\n",
       "      <td>1618</td>\n",
       "      <td>OO</td>\n",
       "      <td>SFO</td>\n",
       "      <td>RDD</td>\n",
       "      <td>199</td>\n",
       "      <td>N</td>\n",
       "    </tr>\n",
       "    <tr>\n",
       "      <th>99996</th>\n",
       "      <td>c-1</td>\n",
       "      <td>c-18</td>\n",
       "      <td>c-3</td>\n",
       "      <td>804</td>\n",
       "      <td>CO</td>\n",
       "      <td>EWR</td>\n",
       "      <td>DAB</td>\n",
       "      <td>884</td>\n",
       "      <td>N</td>\n",
       "    </tr>\n",
       "    <tr>\n",
       "      <th>99997</th>\n",
       "      <td>c-1</td>\n",
       "      <td>c-24</td>\n",
       "      <td>c-2</td>\n",
       "      <td>1901</td>\n",
       "      <td>NW</td>\n",
       "      <td>DTW</td>\n",
       "      <td>IAH</td>\n",
       "      <td>1076</td>\n",
       "      <td>N</td>\n",
       "    </tr>\n",
       "    <tr>\n",
       "      <th>99998</th>\n",
       "      <td>c-4</td>\n",
       "      <td>c-27</td>\n",
       "      <td>c-4</td>\n",
       "      <td>1515</td>\n",
       "      <td>MQ</td>\n",
       "      <td>DFW</td>\n",
       "      <td>GGG</td>\n",
       "      <td>140</td>\n",
       "      <td>N</td>\n",
       "    </tr>\n",
       "    <tr>\n",
       "      <th>99999</th>\n",
       "      <td>c-11</td>\n",
       "      <td>c-17</td>\n",
       "      <td>c-4</td>\n",
       "      <td>1800</td>\n",
       "      <td>WN</td>\n",
       "      <td>SEA</td>\n",
       "      <td>SMF</td>\n",
       "      <td>605</td>\n",
       "      <td>N</td>\n",
       "    </tr>\n",
       "  </tbody>\n",
       "</table>\n",
       "<p>100000 rows × 9 columns</p>\n",
       "</div>"
      ],
      "text/plain": [
       "      Month DayofMonth DayOfWeek  DepTime UniqueCarrier Origin Dest  Distance  \\\n",
       "0       c-8       c-21       c-7     1934            AA    ATL  DFW       732   \n",
       "1       c-4       c-20       c-3     1548            US    PIT  MCO       834   \n",
       "2       c-9        c-2       c-5     1422            XE    RDU  CLE       416   \n",
       "3      c-11       c-25       c-6     1015            OO    DEN  MEM       872   \n",
       "4      c-10        c-7       c-6     1828            WN    MDW  OMA       423   \n",
       "...     ...        ...       ...      ...           ...    ...  ...       ...   \n",
       "99995   c-5        c-4       c-3     1618            OO    SFO  RDD       199   \n",
       "99996   c-1       c-18       c-3      804            CO    EWR  DAB       884   \n",
       "99997   c-1       c-24       c-2     1901            NW    DTW  IAH      1076   \n",
       "99998   c-4       c-27       c-4     1515            MQ    DFW  GGG       140   \n",
       "99999  c-11       c-17       c-4     1800            WN    SEA  SMF       605   \n",
       "\n",
       "      dep_delayed_15min  \n",
       "0                     N  \n",
       "1                     N  \n",
       "2                     N  \n",
       "3                     N  \n",
       "4                     Y  \n",
       "...                 ...  \n",
       "99995                 N  \n",
       "99996                 N  \n",
       "99997                 N  \n",
       "99998                 N  \n",
       "99999                 N  \n",
       "\n",
       "[100000 rows x 9 columns]"
      ]
     },
     "execution_count": 223,
     "metadata": {},
     "output_type": "execute_result"
    }
   ],
   "source": [
    "import matplotlib.pyplot as plt\n",
    "import pandas as pd\n",
    "import seaborn as sns\n",
    "import numpy as np\n",
    "\n",
    "data = pd.read_csv('flight_delays_train.csv')\n",
    "print(data.shape)\n",
    "data"
   ]
  },
  {
   "cell_type": "markdown",
   "id": "fed30bb8",
   "metadata": {},
   "source": [
    "Посмотрим на данные, которые являются категориальными и численными"
   ]
  },
  {
   "cell_type": "code",
   "execution_count": 224,
   "id": "53fe6a6c",
   "metadata": {},
   "outputs": [
    {
     "name": "stdout",
     "output_type": "stream",
     "text": [
      "Категориальные данные: ['Month', 'DayofMonth', 'DayOfWeek', 'UniqueCarrier', 'Origin', 'Dest', 'dep_delayed_15min']\n",
      "Численные данные: ['DepTime', 'Distance']\n"
     ]
    }
   ],
   "source": [
    "categorical_columns = [c for c in data.columns if data[c].dtype.name == 'object']\n",
    "numerical_columns   = [c for c in data.columns if data[c].dtype.name != 'object']\n",
    "print('Категориальные данные:', categorical_columns)\n",
    "print('Численные данные:', numerical_columns)"
   ]
  },
  {
   "cell_type": "markdown",
   "id": "1c3634e4",
   "metadata": {},
   "source": [
    "Категориальные данные можно разделить на 2 типа:  \n",
    "(1) Поряковые: 'Month', 'DayofMonth', 'DayOfWeek'  \n",
    "(2) Непорядковые: 'UniqueCarrier', 'Origin', 'Dest', 'dep_delayed_15min'(таргет)  "
   ]
  },
  {
   "cell_type": "markdown",
   "id": "f33123d0",
   "metadata": {},
   "source": [
    "Теперь посмотрим, как распределены наши данные"
   ]
  },
  {
   "cell_type": "code",
   "execution_count": 225,
   "id": "b503bcc1",
   "metadata": {},
   "outputs": [
    {
     "data": {
      "text/html": [
       "<div>\n",
       "<style scoped>\n",
       "    .dataframe tbody tr th:only-of-type {\n",
       "        vertical-align: middle;\n",
       "    }\n",
       "\n",
       "    .dataframe tbody tr th {\n",
       "        vertical-align: top;\n",
       "    }\n",
       "\n",
       "    .dataframe thead th {\n",
       "        text-align: right;\n",
       "    }\n",
       "</style>\n",
       "<table border=\"1\" class=\"dataframe\">\n",
       "  <thead>\n",
       "    <tr style=\"text-align: right;\">\n",
       "      <th></th>\n",
       "      <th>Month</th>\n",
       "      <th>DayofMonth</th>\n",
       "      <th>DayOfWeek</th>\n",
       "      <th>UniqueCarrier</th>\n",
       "      <th>Origin</th>\n",
       "      <th>Dest</th>\n",
       "      <th>dep_delayed_15min</th>\n",
       "    </tr>\n",
       "  </thead>\n",
       "  <tbody>\n",
       "    <tr>\n",
       "      <th>count</th>\n",
       "      <td>100000</td>\n",
       "      <td>100000</td>\n",
       "      <td>100000</td>\n",
       "      <td>100000</td>\n",
       "      <td>100000</td>\n",
       "      <td>100000</td>\n",
       "      <td>100000</td>\n",
       "    </tr>\n",
       "    <tr>\n",
       "      <th>unique</th>\n",
       "      <td>12</td>\n",
       "      <td>31</td>\n",
       "      <td>7</td>\n",
       "      <td>22</td>\n",
       "      <td>289</td>\n",
       "      <td>289</td>\n",
       "      <td>2</td>\n",
       "    </tr>\n",
       "    <tr>\n",
       "      <th>top</th>\n",
       "      <td>c-8</td>\n",
       "      <td>c-1</td>\n",
       "      <td>c-4</td>\n",
       "      <td>WN</td>\n",
       "      <td>ATL</td>\n",
       "      <td>ATL</td>\n",
       "      <td>N</td>\n",
       "    </tr>\n",
       "    <tr>\n",
       "      <th>freq</th>\n",
       "      <td>8830</td>\n",
       "      <td>3399</td>\n",
       "      <td>14736</td>\n",
       "      <td>15082</td>\n",
       "      <td>5834</td>\n",
       "      <td>5795</td>\n",
       "      <td>80956</td>\n",
       "    </tr>\n",
       "  </tbody>\n",
       "</table>\n",
       "</div>"
      ],
      "text/plain": [
       "         Month DayofMonth DayOfWeek UniqueCarrier  Origin    Dest  \\\n",
       "count   100000     100000    100000        100000  100000  100000   \n",
       "unique      12         31         7            22     289     289   \n",
       "top        c-8        c-1       c-4            WN     ATL     ATL   \n",
       "freq      8830       3399     14736         15082    5834    5795   \n",
       "\n",
       "       dep_delayed_15min  \n",
       "count             100000  \n",
       "unique                 2  \n",
       "top                    N  \n",
       "freq               80956  "
      ]
     },
     "execution_count": 225,
     "metadata": {},
     "output_type": "execute_result"
    }
   ],
   "source": [
    "data[categorical_columns].describe()"
   ]
  },
  {
   "cell_type": "markdown",
   "id": "ee82b6f4",
   "metadata": {},
   "source": [
    "Отметим, количество уникальных значений для непорядковых категориальных переменных, оно достаточно большое, что впоследующим может привести к большому количеству признаков при использовании метода кодирования pd.get_dummies"
   ]
  },
  {
   "cell_type": "code",
   "execution_count": 226,
   "id": "26f1b135",
   "metadata": {},
   "outputs": [
    {
     "data": {
      "text/html": [
       "<div>\n",
       "<style scoped>\n",
       "    .dataframe tbody tr th:only-of-type {\n",
       "        vertical-align: middle;\n",
       "    }\n",
       "\n",
       "    .dataframe tbody tr th {\n",
       "        vertical-align: top;\n",
       "    }\n",
       "\n",
       "    .dataframe thead th {\n",
       "        text-align: right;\n",
       "    }\n",
       "</style>\n",
       "<table border=\"1\" class=\"dataframe\">\n",
       "  <thead>\n",
       "    <tr style=\"text-align: right;\">\n",
       "      <th></th>\n",
       "      <th>DepTime</th>\n",
       "      <th>Distance</th>\n",
       "    </tr>\n",
       "  </thead>\n",
       "  <tbody>\n",
       "    <tr>\n",
       "      <th>count</th>\n",
       "      <td>100000.000000</td>\n",
       "      <td>100000.00000</td>\n",
       "    </tr>\n",
       "    <tr>\n",
       "      <th>mean</th>\n",
       "      <td>1341.523880</td>\n",
       "      <td>729.39716</td>\n",
       "    </tr>\n",
       "    <tr>\n",
       "      <th>std</th>\n",
       "      <td>476.378445</td>\n",
       "      <td>574.61686</td>\n",
       "    </tr>\n",
       "    <tr>\n",
       "      <th>min</th>\n",
       "      <td>1.000000</td>\n",
       "      <td>30.00000</td>\n",
       "    </tr>\n",
       "    <tr>\n",
       "      <th>25%</th>\n",
       "      <td>931.000000</td>\n",
       "      <td>317.00000</td>\n",
       "    </tr>\n",
       "    <tr>\n",
       "      <th>50%</th>\n",
       "      <td>1330.000000</td>\n",
       "      <td>575.00000</td>\n",
       "    </tr>\n",
       "    <tr>\n",
       "      <th>75%</th>\n",
       "      <td>1733.000000</td>\n",
       "      <td>957.00000</td>\n",
       "    </tr>\n",
       "    <tr>\n",
       "      <th>max</th>\n",
       "      <td>2534.000000</td>\n",
       "      <td>4962.00000</td>\n",
       "    </tr>\n",
       "  </tbody>\n",
       "</table>\n",
       "</div>"
      ],
      "text/plain": [
       "             DepTime      Distance\n",
       "count  100000.000000  100000.00000\n",
       "mean     1341.523880     729.39716\n",
       "std       476.378445     574.61686\n",
       "min         1.000000      30.00000\n",
       "25%       931.000000     317.00000\n",
       "50%      1330.000000     575.00000\n",
       "75%      1733.000000     957.00000\n",
       "max      2534.000000    4962.00000"
      ]
     },
     "execution_count": 226,
     "metadata": {},
     "output_type": "execute_result"
    }
   ],
   "source": [
    "data[numerical_columns].describe()"
   ]
  },
  {
   "cell_type": "markdown",
   "id": "128d3c77",
   "metadata": {},
   "source": [
    "Отметим, что максимальное время указано как 25:34, что видимо является ошибкой, поэтому ниже более детально посмотрим на DepTime"
   ]
  },
  {
   "cell_type": "markdown",
   "id": "b6899c77",
   "metadata": {},
   "source": [
    "Убедимся, что в датасете отсутствуют пропущенные значения:"
   ]
  },
  {
   "cell_type": "code",
   "execution_count": 227,
   "id": "e30e45e4",
   "metadata": {},
   "outputs": [
    {
     "data": {
      "text/plain": [
       "Month                100000\n",
       "DayofMonth           100000\n",
       "DayOfWeek            100000\n",
       "DepTime              100000\n",
       "UniqueCarrier        100000\n",
       "Origin               100000\n",
       "Dest                 100000\n",
       "Distance             100000\n",
       "dep_delayed_15min    100000\n",
       "dtype: int64"
      ]
     },
     "execution_count": 227,
     "metadata": {},
     "output_type": "execute_result"
    }
   ],
   "source": [
    "data.count(axis=0)"
   ]
  },
  {
   "cell_type": "markdown",
   "id": "b68a0905",
   "metadata": {},
   "source": [
    "#### Исправление ошибок"
   ]
  },
  {
   "cell_type": "markdown",
   "id": "dd0195c1",
   "metadata": {},
   "source": [
    "Вернемся к DepTime и разделим его на часы и минуты"
   ]
  },
  {
   "cell_type": "code",
   "execution_count": 228,
   "id": "037a39fa",
   "metadata": {},
   "outputs": [
    {
     "name": "stdout",
     "output_type": "stream",
     "text": [
      "Уникальные часы: ['19' '15' '14' '10' '18' '7' '6' '20' '17' '12' '21' '16' '9' '13' '11'\n",
      " '23' '8' '5' '22' '' '4' '2' '24' '1' '3' '25']\n",
      "Уникальные минуты: ['34' '48' '22' '15' '28' '18' '54' '35' '29' '36' '05' '24' '37' '47'\n",
      " '42' '01' '20' '04' '21' '19' '17' '50' '13' '10' '27' '30' '53' '03'\n",
      " '46' '07' '44' '23' '00' '09' '25' '16' '12' '55' '51' '31' '58' '45'\n",
      " '32' '57' '56' '14' '52' '11' '26' '06' '41' '43' '40' '33' '02' '38'\n",
      " '08' '59' '49' '39' '5' '2' '7' '3' '4' '8' '6' '1' '9']\n"
     ]
    }
   ],
   "source": [
    "data['HourDepTime']=data['DepTime'].map(lambda x: str(x)[:-2])\n",
    "print('Уникальные часы:',data['HourDepTime'].unique())\n",
    "\n",
    "data['MinutesDepTime']=data['DepTime'].map(lambda x: str(x)[-2:])\n",
    "print('Уникальные минуты:',data['MinutesDepTime'].unique())"
   ]
  },
  {
   "cell_type": "markdown",
   "id": "c8b1201b",
   "metadata": {},
   "source": [
    "Видим, что в уникальные часы входят как пустые значения '', так и 24 и 25.\n",
    "Приведем все эти значения к 0."
   ]
  },
  {
   "cell_type": "code",
   "execution_count": 229,
   "id": "020f76a5",
   "metadata": {},
   "outputs": [],
   "source": [
    "data['HourDepTime'].replace(['25','24',''],[0,0,0],inplace=True)"
   ]
  },
  {
   "cell_type": "markdown",
   "id": "42b2b7ee",
   "metadata": {},
   "source": [
    "Соберем теперь данные по часам и минутам вместе в одну переменную"
   ]
  },
  {
   "cell_type": "code",
   "execution_count": 230,
   "id": "c0dd86b6",
   "metadata": {},
   "outputs": [
    {
     "data": {
      "text/html": [
       "<div>\n",
       "<style scoped>\n",
       "    .dataframe tbody tr th:only-of-type {\n",
       "        vertical-align: middle;\n",
       "    }\n",
       "\n",
       "    .dataframe tbody tr th {\n",
       "        vertical-align: top;\n",
       "    }\n",
       "\n",
       "    .dataframe thead th {\n",
       "        text-align: right;\n",
       "    }\n",
       "</style>\n",
       "<table border=\"1\" class=\"dataframe\">\n",
       "  <thead>\n",
       "    <tr style=\"text-align: right;\">\n",
       "      <th></th>\n",
       "      <th>Month</th>\n",
       "      <th>DayofMonth</th>\n",
       "      <th>DayOfWeek</th>\n",
       "      <th>DepTime</th>\n",
       "      <th>UniqueCarrier</th>\n",
       "      <th>Origin</th>\n",
       "      <th>Dest</th>\n",
       "      <th>Distance</th>\n",
       "      <th>dep_delayed_15min</th>\n",
       "      <th>HourDepTime</th>\n",
       "      <th>MinutesDepTime</th>\n",
       "      <th>DepTimeCorrect</th>\n",
       "    </tr>\n",
       "  </thead>\n",
       "  <tbody>\n",
       "    <tr>\n",
       "      <th>0</th>\n",
       "      <td>c-8</td>\n",
       "      <td>c-21</td>\n",
       "      <td>c-7</td>\n",
       "      <td>1934</td>\n",
       "      <td>AA</td>\n",
       "      <td>ATL</td>\n",
       "      <td>DFW</td>\n",
       "      <td>732</td>\n",
       "      <td>N</td>\n",
       "      <td>19</td>\n",
       "      <td>34</td>\n",
       "      <td>1934</td>\n",
       "    </tr>\n",
       "    <tr>\n",
       "      <th>1</th>\n",
       "      <td>c-4</td>\n",
       "      <td>c-20</td>\n",
       "      <td>c-3</td>\n",
       "      <td>1548</td>\n",
       "      <td>US</td>\n",
       "      <td>PIT</td>\n",
       "      <td>MCO</td>\n",
       "      <td>834</td>\n",
       "      <td>N</td>\n",
       "      <td>15</td>\n",
       "      <td>48</td>\n",
       "      <td>1548</td>\n",
       "    </tr>\n",
       "    <tr>\n",
       "      <th>2</th>\n",
       "      <td>c-9</td>\n",
       "      <td>c-2</td>\n",
       "      <td>c-5</td>\n",
       "      <td>1422</td>\n",
       "      <td>XE</td>\n",
       "      <td>RDU</td>\n",
       "      <td>CLE</td>\n",
       "      <td>416</td>\n",
       "      <td>N</td>\n",
       "      <td>14</td>\n",
       "      <td>22</td>\n",
       "      <td>1422</td>\n",
       "    </tr>\n",
       "    <tr>\n",
       "      <th>3</th>\n",
       "      <td>c-11</td>\n",
       "      <td>c-25</td>\n",
       "      <td>c-6</td>\n",
       "      <td>1015</td>\n",
       "      <td>OO</td>\n",
       "      <td>DEN</td>\n",
       "      <td>MEM</td>\n",
       "      <td>872</td>\n",
       "      <td>N</td>\n",
       "      <td>10</td>\n",
       "      <td>15</td>\n",
       "      <td>1015</td>\n",
       "    </tr>\n",
       "    <tr>\n",
       "      <th>4</th>\n",
       "      <td>c-10</td>\n",
       "      <td>c-7</td>\n",
       "      <td>c-6</td>\n",
       "      <td>1828</td>\n",
       "      <td>WN</td>\n",
       "      <td>MDW</td>\n",
       "      <td>OMA</td>\n",
       "      <td>423</td>\n",
       "      <td>Y</td>\n",
       "      <td>18</td>\n",
       "      <td>28</td>\n",
       "      <td>1828</td>\n",
       "    </tr>\n",
       "    <tr>\n",
       "      <th>...</th>\n",
       "      <td>...</td>\n",
       "      <td>...</td>\n",
       "      <td>...</td>\n",
       "      <td>...</td>\n",
       "      <td>...</td>\n",
       "      <td>...</td>\n",
       "      <td>...</td>\n",
       "      <td>...</td>\n",
       "      <td>...</td>\n",
       "      <td>...</td>\n",
       "      <td>...</td>\n",
       "      <td>...</td>\n",
       "    </tr>\n",
       "    <tr>\n",
       "      <th>99995</th>\n",
       "      <td>c-5</td>\n",
       "      <td>c-4</td>\n",
       "      <td>c-3</td>\n",
       "      <td>1618</td>\n",
       "      <td>OO</td>\n",
       "      <td>SFO</td>\n",
       "      <td>RDD</td>\n",
       "      <td>199</td>\n",
       "      <td>N</td>\n",
       "      <td>16</td>\n",
       "      <td>18</td>\n",
       "      <td>1618</td>\n",
       "    </tr>\n",
       "    <tr>\n",
       "      <th>99996</th>\n",
       "      <td>c-1</td>\n",
       "      <td>c-18</td>\n",
       "      <td>c-3</td>\n",
       "      <td>804</td>\n",
       "      <td>CO</td>\n",
       "      <td>EWR</td>\n",
       "      <td>DAB</td>\n",
       "      <td>884</td>\n",
       "      <td>N</td>\n",
       "      <td>8</td>\n",
       "      <td>04</td>\n",
       "      <td>804</td>\n",
       "    </tr>\n",
       "    <tr>\n",
       "      <th>99997</th>\n",
       "      <td>c-1</td>\n",
       "      <td>c-24</td>\n",
       "      <td>c-2</td>\n",
       "      <td>1901</td>\n",
       "      <td>NW</td>\n",
       "      <td>DTW</td>\n",
       "      <td>IAH</td>\n",
       "      <td>1076</td>\n",
       "      <td>N</td>\n",
       "      <td>19</td>\n",
       "      <td>01</td>\n",
       "      <td>1901</td>\n",
       "    </tr>\n",
       "    <tr>\n",
       "      <th>99998</th>\n",
       "      <td>c-4</td>\n",
       "      <td>c-27</td>\n",
       "      <td>c-4</td>\n",
       "      <td>1515</td>\n",
       "      <td>MQ</td>\n",
       "      <td>DFW</td>\n",
       "      <td>GGG</td>\n",
       "      <td>140</td>\n",
       "      <td>N</td>\n",
       "      <td>15</td>\n",
       "      <td>15</td>\n",
       "      <td>1515</td>\n",
       "    </tr>\n",
       "    <tr>\n",
       "      <th>99999</th>\n",
       "      <td>c-11</td>\n",
       "      <td>c-17</td>\n",
       "      <td>c-4</td>\n",
       "      <td>1800</td>\n",
       "      <td>WN</td>\n",
       "      <td>SEA</td>\n",
       "      <td>SMF</td>\n",
       "      <td>605</td>\n",
       "      <td>N</td>\n",
       "      <td>18</td>\n",
       "      <td>00</td>\n",
       "      <td>1800</td>\n",
       "    </tr>\n",
       "  </tbody>\n",
       "</table>\n",
       "<p>100000 rows × 12 columns</p>\n",
       "</div>"
      ],
      "text/plain": [
       "      Month DayofMonth DayOfWeek  DepTime UniqueCarrier Origin Dest  Distance  \\\n",
       "0       c-8       c-21       c-7     1934            AA    ATL  DFW       732   \n",
       "1       c-4       c-20       c-3     1548            US    PIT  MCO       834   \n",
       "2       c-9        c-2       c-5     1422            XE    RDU  CLE       416   \n",
       "3      c-11       c-25       c-6     1015            OO    DEN  MEM       872   \n",
       "4      c-10        c-7       c-6     1828            WN    MDW  OMA       423   \n",
       "...     ...        ...       ...      ...           ...    ...  ...       ...   \n",
       "99995   c-5        c-4       c-3     1618            OO    SFO  RDD       199   \n",
       "99996   c-1       c-18       c-3      804            CO    EWR  DAB       884   \n",
       "99997   c-1       c-24       c-2     1901            NW    DTW  IAH      1076   \n",
       "99998   c-4       c-27       c-4     1515            MQ    DFW  GGG       140   \n",
       "99999  c-11       c-17       c-4     1800            WN    SEA  SMF       605   \n",
       "\n",
       "      dep_delayed_15min HourDepTime MinutesDepTime DepTimeCorrect  \n",
       "0                     N          19             34           1934  \n",
       "1                     N          15             48           1548  \n",
       "2                     N          14             22           1422  \n",
       "3                     N          10             15           1015  \n",
       "4                     Y          18             28           1828  \n",
       "...                 ...         ...            ...            ...  \n",
       "99995                 N          16             18           1618  \n",
       "99996                 N           8             04            804  \n",
       "99997                 N          19             01           1901  \n",
       "99998                 N          15             15           1515  \n",
       "99999                 N          18             00           1800  \n",
       "\n",
       "[100000 rows x 12 columns]"
      ]
     },
     "execution_count": 230,
     "metadata": {},
     "output_type": "execute_result"
    }
   ],
   "source": [
    "data['DepTimeCorrect'] = data['HourDepTime'].astype(str) + data['MinutesDepTime'].astype(str)\n",
    "data"
   ]
  },
  {
   "cell_type": "code",
   "execution_count": 231,
   "id": "6c8ca75e",
   "metadata": {},
   "outputs": [],
   "source": [
    "data['DepTimeCorrect']=data['DepTimeCorrect'].astype(int)\n",
    "data['HourDepTime']=data['HourDepTime'].astype(int)\n",
    "data['MinutesDepTime']=data['MinutesDepTime'].astype(int)"
   ]
  },
  {
   "cell_type": "markdown",
   "id": "51c63afb",
   "metadata": {},
   "source": [
    "#### Анализ зависимости численных и порядковых категориальных перменных с target"
   ]
  },
  {
   "cell_type": "markdown",
   "id": "ff895975",
   "metadata": {},
   "source": [
    "Добавим в датасет копию target, где N,Y, заменено на 0 и 1, нам это понадобиться для анализа зависимости."
   ]
  },
  {
   "cell_type": "code",
   "execution_count": 232,
   "id": "3d2bb0c3",
   "metadata": {},
   "outputs": [],
   "source": [
    "data['01_dep_delayed_15min'] = data['dep_delayed_15min']\n",
    "data['01_dep_delayed_15min'].replace(['N','Y'],[0,1],inplace=True)"
   ]
  },
  {
   "cell_type": "code",
   "execution_count": 233,
   "id": "3f29cfce",
   "metadata": {},
   "outputs": [
    {
     "data": {
      "text/plain": [
       "<AxesSubplot:xlabel='MinutesDepTime', ylabel='01_dep_delayed_15min'>"
      ]
     },
     "execution_count": 233,
     "metadata": {},
     "output_type": "execute_result"
    },
    {
     "data": {
      "image/png": "[encoded data removed]",
      "text/plain": [
       "<Figure size 432x288 with 1 Axes>"
      ]
     },
     "metadata": {
      "needs_background": "light"
     },
     "output_type": "display_data"
    }
   ],
   "source": [
    "sns.barplot(x='MinutesDepTime', y='01_dep_delayed_15min', data=data, ci=None)"
   ]
  },
  {
   "cell_type": "markdown",
   "id": "8bf681a8",
   "metadata": {},
   "source": [
    "На диаграмме выше, визуально какой-либо зависимости между Минутами вылета и временем задержки не видно."
   ]
  },
  {
   "cell_type": "code",
   "execution_count": 234,
   "id": "8fc72363",
   "metadata": {},
   "outputs": [
    {
     "data": {
      "text/plain": [
       "<AxesSubplot:xlabel='HourDepTime', ylabel='01_dep_delayed_15min'>"
      ]
     },
     "execution_count": 234,
     "metadata": {},
     "output_type": "execute_result"
    },
    {
     "data": {
      "image/png": "[encoded data removed]",
      "text/plain": [
       "<Figure size 432x288 with 1 Axes>"
      ]
     },
     "metadata": {
      "needs_background": "light"
     },
     "output_type": "display_data"
    }
   ],
   "source": [
    "sns.barplot(x='HourDepTime', y='01_dep_delayed_15min', data=data, ci=None)"
   ]
  },
  {
   "cell_type": "markdown",
   "id": "4f09a225",
   "metadata": {},
   "source": [
    "###### Здесь определенно видна линейная зависимость, начиная с 5 утра относительное колчичество задержек рейсов растет и достигает максимума в 0-3 ночи.  \n",
    "Однако, нам нужно еще посмотреть, на количество рейсов в указанные часы"
   ]
  },
  {
   "cell_type": "code",
   "execution_count": 235,
   "id": "c786568b",
   "metadata": {},
   "outputs": [
    {
     "data": {
      "text/plain": [
       "<AxesSubplot:>"
      ]
     },
     "execution_count": 235,
     "metadata": {},
     "output_type": "execute_result"
    },
    {
     "data": {
      "image/png": "[encoded data removed]",
      "text/plain": [
       "<Figure size 720x576 with 1 Axes>"
      ]
     },
     "metadata": {
      "needs_background": "light"
     },
     "output_type": "display_data"
    }
   ],
   "source": [
    "data['HourDepTime'].hist(bins=50 , figsize=(10,8))"
   ]
  },
  {
   "cell_type": "markdown",
   "id": "eefc9b08",
   "metadata": {},
   "source": [
    "Видим, что количество рейсов в период с 0 до 5 утра небольшое, тем ни менее в период с 6 утра до 21 рейсы распределены примерно равномерно и линейная зависимость (из графика выше) с количествои задержек рейсов для них актуальна."
   ]
  },
  {
   "cell_type": "markdown",
   "id": "82e7eeef",
   "metadata": {},
   "source": [
    "Проверим умозаключения посмотрев на корреляцию нескольких признаков. Видим, что есть коррелиция между таргетом и Часами вылета рейса."
   ]
  },
  {
   "cell_type": "code",
   "execution_count": 236,
   "id": "7afc94f0",
   "metadata": {},
   "outputs": [
    {
     "data": {
      "text/plain": [
       "<AxesSubplot:>"
      ]
     },
     "execution_count": 236,
     "metadata": {},
     "output_type": "execute_result"
    },
    {
     "data": {
      "image/png": "[encoded data removed]",
      "text/plain": [
       "<Figure size 432x288 with 2 Axes>"
      ]
     },
     "metadata": {
      "needs_background": "light"
     },
     "output_type": "display_data"
    }
   ],
   "source": [
    "sns.heatmap(data[['HourDepTime', 'MinutesDepTime', '01_dep_delayed_15min','Distance']].corr(), annot=True)"
   ]
  },
  {
   "cell_type": "markdown",
   "id": "88dceaa6",
   "metadata": {},
   "source": [
    "Посмторим теперь на корреляцию таргета с 'Month', 'DayofMonth', 'DayOfWeek'.  \n",
    "Для этого преобразуем их в численные значения"
   ]
  },
  {
   "cell_type": "code",
   "execution_count": 237,
   "id": "0d0abe27",
   "metadata": {},
   "outputs": [],
   "source": [
    "data['Month']=data['Month'].map(lambda x: str(x)[2:])\n",
    "data['DayofMonth']=data['DayofMonth'].map(lambda x: str(x)[2:])\n",
    "data['DayOfWeek']=data['DayOfWeek'].map(lambda x: str(x)[2:])\n",
    "\n",
    "data['Month']=data['Month'].astype(int)\n",
    "data['DayofMonth']=data['DayofMonth'].astype(int)\n",
    "data['DayOfWeek']=data['DayOfWeek'].astype(int)"
   ]
  },
  {
   "cell_type": "code",
   "execution_count": 238,
   "id": "2a69428f",
   "metadata": {},
   "outputs": [
    {
     "data": {
      "text/plain": [
       "<AxesSubplot:>"
      ]
     },
     "execution_count": 238,
     "metadata": {},
     "output_type": "execute_result"
    },
    {
     "data": {
      "image/png": "[encoded data removed]",
      "text/plain": [
       "<Figure size 432x288 with 2 Axes>"
      ]
     },
     "metadata": {
      "needs_background": "light"
     },
     "output_type": "display_data"
    }
   ],
   "source": [
    "sns.heatmap(data[['Month','DayofMonth','DayOfWeek','01_dep_delayed_15min']].corr(method='spearman'), annot=True)"
   ]
  },
  {
   "cell_type": "markdown",
   "id": "8ede1c5f",
   "metadata": {},
   "source": [
    "Для категориальных порядковых переменных мы использовали расчет корреляции методом Спирмена, видим, что зависимость между рассматриваемыми переменнами не может быть описана монотонной функцией."
   ]
  },
  {
   "cell_type": "markdown",
   "id": "868a3784",
   "metadata": {},
   "source": [
    "#### Анализ зависимости непорядковых категориальных перменных с target"
   ]
  },
  {
   "cell_type": "markdown",
   "id": "f175927c",
   "metadata": {},
   "source": [
    "Перейдем к рассмотрению непорядковых переменных: 'UniqueCarrier', 'Origin', 'Dest' используя метод хи-квадрат."
   ]
  },
  {
   "cell_type": "markdown",
   "id": "fbc66020",
   "metadata": {},
   "source": [
    "Напишем функцию для хи-квадрат"
   ]
  },
  {
   "cell_type": "code",
   "execution_count": 280,
   "id": "7709c04f",
   "metadata": {},
   "outputs": [],
   "source": [
    "def chi_square(df, col1, col2):    \n",
    "    #---create the contingency table---\n",
    "    df_cont = pd.crosstab(index = df[col1], columns = df[col2])\n",
    "    \n",
    "    #---calculate degree of freedom---\n",
    "    degree_f = (df_cont.shape[0]-1) * (df_cont.shape[1]-1)\n",
    "    #---sum up the totals for row and columns---\n",
    "    df_cont.loc[:,'Total']= df_cont.sum(axis=1)\n",
    "    df_cont.loc['Total']= df_cont.sum()\n",
    "  \n",
    "    #---create the expected value dataframe---\n",
    "    df_exp = df_cont.copy()    \n",
    "    df_exp.iloc[:,:] = np.multiply.outer(df_cont.sum(1).values,df_cont.sum().values) / df_cont.sum().sum()            \n",
    "    \n",
    "    # calculate chi-square values\n",
    "    df_chi2 = ((df_cont - df_exp)**2) / df_exp    \n",
    "    df_chi2.loc[:,'Total']= df_chi2.sum(axis=1)\n",
    "    df_chi2.loc['Total']= df_chi2.sum()\n",
    "    \n",
    "    #---get chi-square score---   \n",
    "    chi_square_score = df_chi2.iloc[:-1,:-1].sum().sum()\n",
    "\n",
    "    #---calculate the p-value---\n",
    "    from scipy import stats\n",
    "    p = stats.distributions.chi2.sf(chi_square_score, degree_f)\n",
    "\n",
    "    return chi_square_score, degree_f, p"
   ]
  },
  {
   "cell_type": "markdown",
   "id": "36a6beba",
   "metadata": {},
   "source": [
    "Применим ее для непорядковых переменных: 'UniqueCarrier', 'Origin', 'Dest'"
   ]
  },
  {
   "cell_type": "code",
   "execution_count": 290,
   "id": "79ef6c13",
   "metadata": {},
   "outputs": [
    {
     "name": "stdout",
     "output_type": "stream",
     "text": [
      "UniqueCarrier vs dep_delayed_15min\n",
      "Chi2_score: 621.4838656228629, Degrees of freedom: 21, p-value: 4.823859561648255e-118\n",
      "\n",
      "Origin vs dep_delayed_15min\n",
      "Chi2_score: 1249.2827484092522, Degrees of freedom: 288, p-value: 1.055801126790327e-119\n",
      "\n",
      "Dest vs dep_delayed_15min\n",
      "Chi2_score: 1097.332222137806, Degrees of freedom: 288, p-value: 9.620779192833563e-95\n",
      "\n"
     ]
    }
   ],
   "source": [
    "chi_score, degree_f, p = chi_square(data,'UniqueCarrier','dep_delayed_15min')\n",
    "print('UniqueCarrier vs dep_delayed_15min')\n",
    "print(f'Chi2_score: {chi_score}, Degrees of freedom: {degree_f}, p-value: {p}\\n')\n",
    "\n",
    "chi_score, degree_f, p = chi_square(data,'Origin','dep_delayed_15min')\n",
    "print('Origin vs dep_delayed_15min')\n",
    "print(f'Chi2_score: {chi_score}, Degrees of freedom: {degree_f}, p-value: {p}\\n')\n",
    "\n",
    "chi_score, degree_f, p = chi_square(data,'Dest','dep_delayed_15min')\n",
    "print('Dest vs dep_delayed_15min')\n",
    "print(f'Chi2_score: {chi_score}, Degrees of freedom: {degree_f}, p-value: {p}\\n')"
   ]
  },
  {
   "cell_type": "markdown",
   "id": "ad5b514e",
   "metadata": {},
   "source": [
    "Видим, что для всех переменных p-value значительно ниже 0,05. Следовательно переменные 'UniqueCarrier', 'Origin', 'Dest' коррелируют с target.  \n",
    "Посмотрим как выглядит эта взаимосвящь на примере UniqueCarrier"
   ]
  },
  {
   "cell_type": "code",
   "execution_count": 291,
   "id": "4d87a155",
   "metadata": {},
   "outputs": [
    {
     "data": {
      "text/plain": [
       "<AxesSubplot:xlabel='dep_delayed_15min', ylabel='UniqueCarrier'>"
      ]
     },
     "execution_count": 291,
     "metadata": {},
     "output_type": "execute_result"
    },
    {
     "data": {
      "image/png": "[encoded data removed]",
      "text/plain": [
       "<Figure size 864x576 with 2 Axes>"
      ]
     },
     "metadata": {
      "needs_background": "light"
     },
     "output_type": "display_data"
    }
   ],
   "source": [
    "contigency = pd.crosstab(data['UniqueCarrier'], data['dep_delayed_15min'])\n",
    "plt.figure(figsize=(12,8))\n",
    "sns.heatmap(contigency, annot=True, cmap=\"YlGnBu\")"
   ]
  },
  {
   "cell_type": "markdown",
   "id": "21c550ba",
   "metadata": {},
   "source": [
    "Видим, что по некоторым кодам авиакомпаний (UniqueCarrier) есть значительное преоблажание в сторону отсутствия задержки рейса"
   ]
  },
  {
   "cell_type": "markdown",
   "id": "a6e4cf69",
   "metadata": {},
   "source": [
    "В следующем блокноте перейдем к обучению модели"
   ]
  }
 ],
 "metadata": {
  "kernelspec": {
   "display_name": "Python 3",
   "language": "python",
   "name": "python3"
  },
  "language_info": {
   "codemirror_mode": {
    "name": "ipython",
    "version": 3
   },
   "file_extension": ".py",
   "mimetype": "text/x-python",
   "name": "python",
   "nbconvert_exporter": "python",
   "pygments_lexer": "ipython3",
   "version": "3.8.8"
  }
 },
 "nbformat": 4,
 "nbformat_minor": 5
}
